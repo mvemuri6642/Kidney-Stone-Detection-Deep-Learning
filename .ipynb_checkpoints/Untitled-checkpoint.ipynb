{
 "cells": [
  {
   "cell_type": "code",
   "execution_count": null,
   "id": "612434a6",
   "metadata": {},
   "outputs": [],
   "source": [
    "import numpy as np\n",
    "import matplotlib.pyplot as plt\n",
    "import os\n",
    "import cv2\n",
    "import random\n",
    "\n",
    "DIR='C:/Users/Manohar Vemuri/Desktop/M/project/CT_SCAN'\n",
    "CATEGORIES=[\"Normal\",\"Kidney_stone\"]\n",
    "training_data=[]\n",
    "\n",
    "def train_data():\n",
    "    for categories in CATEGORIES:\n",
    "        path=os.path.join(DIR,categories)\n",
    "        class_num=CATEGORIES.index(categories)\n",
    "        for img in os.listdir(path):\n",
    "            try:\n",
    "                img_array=cv2.imread(os.path.join(path,img))\n",
    "                new_array=cv2.resize(img_array,(128,128))\n",
    "                training_data.append([new_array,class_num])\n",
    "            except Exception as e:\n",
    "                pass\n",
    "train_data()\n",
    "random.shuffle(training_data)"
   ]
  },
  {
   "cell_type": "code",
   "execution_count": null,
   "id": "31f20491",
   "metadata": {},
   "outputs": [],
   "source": [
    "X=[]\n",
    "y=[]\n",
    "for features,labels in training_data:\n",
    "    X.append(features)\n",
    "    y.append(labels)\n",
    "X=np.array(X)\n",
    "y=np.array(y)"
   ]
  },
  {
   "cell_type": "code",
   "execution_count": null,
   "id": "8617ecc2",
   "metadata": {},
   "outputs": [],
   "source": [
    "from sklearn.model_selection import train_test_split\n",
    "Xtrain,Xtest,ytrain,ytest=train_test_split(X,y,test_size=0.1,random_state=1)\n",
    "print(len(Xtrain),len(Xtest),len(ytrain),len(ytest))\n",
    "Xtrain=np.array(Xtrain)\n",
    "Xtest=np.array(Xtest)"
   ]
  },
  {
   "cell_type": "code",
   "execution_count": 31,
   "id": "40a2ba81",
   "metadata": {},
   "outputs": [],
   "source": [
    "import numpy as np\n",
    "import cv2 as cv\n",
    "import tensorflow as tf\n",
    "from tensorflow import keras\n",
    "import matplotlib.pyplot as plt\n",
    "from keras.datasets import mnist\n",
    "from keras.models import Sequential\n",
    "from keras.layers import Dense\n",
    "from tensorflow.keras.optimizers import RMSprop\n",
    "from tensorflow.keras.optimizers import SGD\n",
    "from keras.layers import Dense, Conv2D, Flatten, Convolution2D, Activation\n",
    "from keras.layers import Dropout, MaxPooling2D\n",
    "from tensorflow.keras.applications import ResNet50,Xception\n",
    "import pickle"
   ]
  },
  {
   "cell_type": "code",
   "execution_count": 15,
   "id": "1210818b",
   "metadata": {},
   "outputs": [],
   "source": [
    "def median_blur(img):\n",
    "    mb = cv2.medianBlur(img, 1)\n",
    "    res=hist(mb)\n",
    "    return res\n",
    "    \n",
    "def hist(img):\n",
    "    res = cv2.cvtColor(img, cv2.COLOR_BGR2GRAY)\n",
    "    gamma_corrected = np.array(255*(res / 255) ** 2.5, dtype = 'uint8')\n",
    "    thres=thresholding_img(gamma_corrected)\n",
    "    return thres\n",
    "\n",
    "def thresholding_img(img):\n",
    "    ret, thresh1 = cv2.threshold(img, 100, 255, cv2.THRESH_BINARY)\n",
    "    return thresh1\n",
    "\n",
    "processed_img=[]\n",
    "for img in Xtrain:\n",
    "    res=median_blur(img)\n",
    "    processed_img.append(res)\n",
    "    \n",
    "processed_img=np.array(processed_img)"
   ]
  },
  {
   "cell_type": "code",
   "execution_count": 40,
   "id": "f83a743e",
   "metadata": {},
   "outputs": [],
   "source": [
    "def build_model():\n",
    "    model=keras.Sequential([\n",
    "        keras.layers.Convolution2D(\n",
    "            filters=64,\n",
    "            kernel_size=3,\n",
    "            activation='relu',\n",
    "            input_shape=(128, 128, 1)\n",
    "        ),\n",
    "        keras.layers.MaxPooling2D(pool_size=(3, 3)),\n",
    "        \n",
    "        keras.layers.Conv2D(\n",
    "            filters=112,\n",
    "            kernel_size=3,\n",
    "            activation='relu'\n",
    "        ),\n",
    "        keras.layers.MaxPooling2D(pool_size=(3, 3)),\n",
    "        \n",
    "        keras.layers.Flatten(),\n",
    "        keras.layers.Dense(\n",
    "            units=80,\n",
    "            activation='relu'\n",
    "        ),\n",
    "        keras.layers.Dropout(0.5),\n",
    "        keras.layers.Dense(1,activation='sigmoid')\n",
    "    ]\n",
    "    )\n",
    "    \n",
    "    \n",
    "    model.compile(optimizer=keras.optimizers.RMSprop(lr=0.001),\n",
    "                 loss='binary_crossentropy',\n",
    "                 metrics=['accuracy'])\n",
    "    return model\n",
    "model=build_model()"
   ]
  },
  {
   "cell_type": "code",
   "execution_count": 41,
   "id": "d630d415",
   "metadata": {},
   "outputs": [
    {
     "name": "stdout",
     "output_type": "stream",
     "text": [
      "Model: \"sequential_10\"\n",
      "_________________________________________________________________\n",
      " Layer (type)                Output Shape              Param #   \n",
      "=================================================================\n",
      " conv2d_20 (Conv2D)          (None, 126, 126, 64)      640       \n",
      "                                                                 \n",
      " max_pooling2d_20 (MaxPoolin  (None, 42, 42, 64)       0         \n",
      " g2D)                                                            \n",
      "                                                                 \n",
      " conv2d_21 (Conv2D)          (None, 40, 40, 112)       64624     \n",
      "                                                                 \n",
      " max_pooling2d_21 (MaxPoolin  (None, 13, 13, 112)      0         \n",
      " g2D)                                                            \n",
      "                                                                 \n",
      " flatten_10 (Flatten)        (None, 18928)             0         \n",
      "                                                                 \n",
      " dense_20 (Dense)            (None, 80)                1514320   \n",
      "                                                                 \n",
      " dropout_10 (Dropout)        (None, 80)                0         \n",
      "                                                                 \n",
      " dense_21 (Dense)            (None, 1)                 81        \n",
      "                                                                 \n",
      "=================================================================\n",
      "Total params: 1,579,665\n",
      "Trainable params: 1,579,665\n",
      "Non-trainable params: 0\n",
      "_________________________________________________________________\n"
     ]
    }
   ],
   "source": [
    "model.summary()"
   ]
  },
  {
   "cell_type": "code",
   "execution_count": null,
   "id": "eb8f8a15",
   "metadata": {},
   "outputs": [],
   "source": []
  },
  {
   "cell_type": "code",
   "execution_count": null,
   "id": "7bd07409",
   "metadata": {},
   "outputs": [],
   "source": []
  },
  {
   "cell_type": "code",
   "execution_count": null,
   "id": "848e2939",
   "metadata": {},
   "outputs": [],
   "source": []
  },
  {
   "cell_type": "code",
   "execution_count": 42,
   "id": "376f8478",
   "metadata": {},
   "outputs": [
    {
     "name": "stdout",
     "output_type": "stream",
     "text": [
      "Epoch 1/15\n",
      "14/14 [==============================] - 12s 833ms/step - loss: 46.1620 - accuracy: 0.5572 - val_loss: 0.6120 - val_accuracy: 0.6966\n",
      "Epoch 2/15\n",
      "14/14 [==============================] - 12s 846ms/step - loss: 0.6555 - accuracy: 0.6861 - val_loss: 0.4143 - val_accuracy: 0.8207\n",
      "Epoch 3/15\n",
      "14/14 [==============================] - 12s 866ms/step - loss: 0.4975 - accuracy: 0.7483 - val_loss: 0.5774 - val_accuracy: 0.7379\n",
      "Epoch 4/15\n",
      "14/14 [==============================] - 13s 898ms/step - loss: 0.4849 - accuracy: 0.7744 - val_loss: 0.5157 - val_accuracy: 0.7034\n",
      "Epoch 5/15\n",
      "14/14 [==============================] - 13s 959ms/step - loss: 0.4069 - accuracy: 0.8166 - val_loss: 0.3030 - val_accuracy: 0.8897\n",
      "Epoch 6/15\n",
      "14/14 [==============================] - 13s 922ms/step - loss: 0.3582 - accuracy: 0.8465 - val_loss: 0.5553 - val_accuracy: 0.8207\n",
      "Epoch 7/15\n",
      "14/14 [==============================] - 13s 919ms/step - loss: 0.4239 - accuracy: 0.8565 - val_loss: 0.2781 - val_accuracy: 0.9103\n",
      "Epoch 8/15\n",
      "14/14 [==============================] - 13s 964ms/step - loss: 0.2191 - accuracy: 0.9079 - val_loss: 0.2129 - val_accuracy: 0.9241\n",
      "Epoch 9/15\n",
      "14/14 [==============================] - 13s 937ms/step - loss: 0.2208 - accuracy: 0.9102 - val_loss: 0.3200 - val_accuracy: 0.8759\n",
      "Epoch 10/15\n",
      "14/14 [==============================] - 13s 950ms/step - loss: 0.1384 - accuracy: 0.9501 - val_loss: 0.4514 - val_accuracy: 0.9034\n",
      "Epoch 11/15\n",
      "14/14 [==============================] - 13s 936ms/step - loss: 0.1277 - accuracy: 0.9509 - val_loss: 0.6565 - val_accuracy: 0.8828\n",
      "Epoch 12/15\n",
      "14/14 [==============================] - 13s 962ms/step - loss: 0.1407 - accuracy: 0.9578 - val_loss: 0.2601 - val_accuracy: 0.9241\n",
      "Epoch 13/15\n",
      "14/14 [==============================] - 14s 964ms/step - loss: 0.0675 - accuracy: 0.9762 - val_loss: 0.2038 - val_accuracy: 0.9172\n",
      "Epoch 14/15\n",
      "14/14 [==============================] - 13s 946ms/step - loss: 0.0527 - accuracy: 0.9823 - val_loss: 0.1864 - val_accuracy: 0.9034\n",
      "Epoch 15/15\n",
      "14/14 [==============================] - 13s 938ms/step - loss: 0.0571 - accuracy: 0.9777 - val_loss: 0.1879 - val_accuracy: 0.9310\n"
     ]
    },
    {
     "data": {
      "text/plain": [
       "<keras.callbacks.History at 0x18512401d30>"
      ]
     },
     "execution_count": 42,
     "metadata": {},
     "output_type": "execute_result"
    }
   ],
   "source": [
    "model.fit(processed_img,ytrain,epochs=15,batch_size=100,verbose=1,validation_split=0.1)"
   ]
  },
  {
   "cell_type": "code",
   "execution_count": 43,
   "id": "f597ee4b",
   "metadata": {},
   "outputs": [],
   "source": [
    "Xtest_processed_img=[]\n",
    "for img in Xtest:\n",
    "    res=median_blur(img)\n",
    "    Xtest_processed_img.append(res)\n",
    "    \n",
    "Xtest_processed_img=np.array(Xtest_processed_img)"
   ]
  },
  {
   "cell_type": "code",
   "execution_count": 44,
   "id": "70e9123a",
   "metadata": {},
   "outputs": [],
   "source": [
    "ypred=model.predict(Xtest_processed_img)"
   ]
  },
  {
   "cell_type": "code",
   "execution_count": 55,
   "id": "accd3e17",
   "metadata": {},
   "outputs": [
    {
     "data": {
      "text/plain": [
       "array([[83,  0],\n",
       "       [ 9, 69]], dtype=int64)"
      ]
     },
     "execution_count": 55,
     "metadata": {},
     "output_type": "execute_result"
    }
   ],
   "source": [
    "from sklearn.metrics import confusion_matrix\n",
    "cc=confusion_matrix(ytest,(ypred>0.5)*1)\n",
    "cc"
   ]
  },
  {
   "cell_type": "code",
   "execution_count": 54,
   "id": "f7095581",
   "metadata": {},
   "outputs": [
    {
     "data": {
      "text/plain": [
       "94.40993788819875"
      ]
     },
     "execution_count": 54,
     "metadata": {},
     "output_type": "execute_result"
    }
   ],
   "source": [
    "from sklearn.metrics import accuracy_score\n",
    "accuracy_score(ytest,(ypred>0.5)*1)*100"
   ]
  },
  {
   "cell_type": "code",
   "execution_count": null,
   "id": "c4760724",
   "metadata": {},
   "outputs": [],
   "source": []
  }
 ],
 "metadata": {
  "kernelspec": {
   "display_name": "Python 3 (ipykernel)",
   "language": "python",
   "name": "python3"
  },
  "language_info": {
   "codemirror_mode": {
    "name": "ipython",
    "version": 3
   },
   "file_extension": ".py",
   "mimetype": "text/x-python",
   "name": "python",
   "nbconvert_exporter": "python",
   "pygments_lexer": "ipython3",
   "version": "3.9.7"
  }
 },
 "nbformat": 4,
 "nbformat_minor": 5
}
